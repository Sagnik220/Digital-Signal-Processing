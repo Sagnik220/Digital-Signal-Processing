{
  "nbformat": 4,
  "nbformat_minor": 0,
  "metadata": {
    "colab": {
      "name": "Mfreqz.ipynb",
      "provenance": []
    },
    "kernelspec": {
      "name": "python3",
      "display_name": "Python 3"
    }
  },
  "cells": [
    {
      "cell_type": "code",
      "metadata": {
        "id": "3MMVv3wwS0YC"
      },
      "source": [
        "def mfreqz(b,a, Fs):\n",
        "    ##Compute frequency response of the filter using signal.freqz function\n",
        "\n",
        "    wz, hz =signal.freqz(b,a)\n",
        "\n",
        "    ##Calculate Magnitude from hz in dB\n",
        "\n",
        "    Mag=20*np.log10(abs(hz))\n",
        "\n",
        "    ##Calculate phase angle in degree from hz\n",
        "    Phase =np.unwrap(np.arctan2(np.imag(hz), np.real(hz)))*(180/np.pi)\n",
        "\n",
        "    ##Calculate frequency in Hz from wz\n",
        "    Freq =wz*Fs/(2*np.pi) \n",
        "\n",
        "    ##Plot filter magnitude and phase responses using subplot. \n",
        "    fig = plt.figure(figsize=(10, 6))\n",
        "    \n",
        "    ##Plot Magnitude response\n",
        "    sub1 = plt.subplot(2, 1, 1)\n",
        "    sub1.plot(Freq,Mag, 'r', linewidth=2)  \n",
        "    sub1.axis([1, Fs/2, -100, 5])\n",
        "    sub1.set_title('Magnitute Response', fontsize=20)\n",
        "    sub1.set_xlabel('Frequency [Hz]', fontsize=20)\n",
        "    sub1.set_ylabel('Magnitude [dB]', fontsize=20)\n",
        "    sub1.grid()\n",
        "\n",
        "    ##Plot phase angle\n",
        "    sub2 = plt.subplot(2, 1, 2)\n",
        "    sub2.plot(Freq, Phase, 'g', linewidth=2)\n",
        "    sub2.set_ylabel('Phase (degree)', fontsize=20)\n",
        "    sub2.set_xlabel(r'Frequency (Hz)', fontsize=20)\n",
        "    sub2.set_title(r'Phase response', fontsize=20)\n",
        "    sub2.grid()\n",
        "\n",
        "    plt.subplots_adjust(hspace=0.5)\n",
        "    fig.tight_layout()\n",
        "    plt.show()\n",
        "\n"
      ],
      "execution_count": null,
      "outputs": []
    }
  ]
}