{
  "nbformat": 4,
  "nbformat_minor": 0,
  "metadata": {
    "colab": {
      "name": "Butterworth Low-Pass using BZT.ipynb",
      "provenance": []
    },
    "kernelspec": {
      "name": "python3",
      "display_name": "Python 3"
    }
  },
  "cells": [
    {
      "cell_type": "code",
      "metadata": {
        "id": "kRlpQ4vES1Ih"
      },
      "source": [
        "import numpy as np\n",
        "import scipy.signal as signal\n",
        "import matplotlib.pyplot as plt"
      ],
      "execution_count": 1,
      "outputs": []
    },
    {
      "cell_type": "code",
      "metadata": {
        "id": "9OZDsUAoTMTW",
        "outputId": "79dd1d37-6f57-4737-8e32-367927eaed99",
        "colab": {
          "base_uri": "https://localhost:8080/"
        }
      },
      "source": [
        "N,Fs,fc=map(int,input().split())  ##Order of the filter,Sampling frequency in Hz,Cut-off frequency in Hz"
      ],
      "execution_count": 3,
      "outputs": [
        {
          "output_type": "stream",
          "text": [
            "2 8000 3400\n"
          ],
          "name": "stdout"
        }
      ]
    },
    {
      "cell_type": "code",
      "metadata": {
        "id": "5JFTEK-JTMo2"
      },
      "source": [
        "##Compute Design Sampling parameter\n",
        "Td=1/Fs\n"
      ],
      "execution_count": 6,
      "outputs": []
    },
    {
      "cell_type": "code",
      "metadata": {
        "id": "7bxhcmJRTyt1",
        "outputId": "00c24a02-3124-4b3b-8824-bc962eb1d23c",
        "colab": {
          "base_uri": "https://localhost:8080/"
        }
      },
      "source": [
        "##Compute cut-off frequency in radian/sec\n",
        "\n",
        "wd=2*np.pi*fc ##Cut-off frequency in radian/sec\n",
        "print(wd)"
      ],
      "execution_count": 7,
      "outputs": [
        {
          "output_type": "stream",
          "text": [
            "21362.83004441059\n"
          ],
          "name": "stdout"
        }
      ]
    },
    {
      "cell_type": "code",
      "metadata": {
        "id": "AXtjgZNxTy1w",
        "outputId": "12de9b2c-c5a2-41f9-a246-95eac9147e2a",
        "colab": {
          "base_uri": "https://localhost:8080/"
        }
      },
      "source": [
        "##Prewarp the analog frequency\n",
        "      \n",
        "wc=(2/Td)*np.tan(wd*Td/2)   ##Prewarped analog cut-off frequency\n",
        "print('Order of the filter=', N)\n",
        "print('Cut-off frequency (in rad/s)=',wc)\n"
      ],
      "execution_count": 8,
      "outputs": [
        {
          "output_type": "stream",
          "text": [
            "Order of the filter= 2\n",
            "Cut-off frequency (in rad/s)= 66644.79632144666\n"
          ],
          "name": "stdout"
        }
      ]
    },
    {
      "cell_type": "code",
      "metadata": {
        "id": "Nd25Rrt-Ty3-",
        "outputId": "4eee7353-4fc1-490b-95d0-428af6cd4b49",
        "colab": {
          "base_uri": "https://localhost:8080/"
        }
      },
      "source": [
        "##Design analog Butterworth filter using signal.butter function\n",
        "\n",
        "b,a=signal.butter(N,wc,'low',analog='True')\n",
        "\n",
        "##Perform bilinear Transformation\n",
        "\n",
        "z,p=signal.bilinear(b,a,fs=Fs)\n",
        "##Print numerator and denomerator coefficients of the filter\n",
        "print('Numerator Coefficients:', z)\n",
        "print('Denominator Coefficients:', p)"
      ],
      "execution_count": 9,
      "outputs": [
        {
          "output_type": "stream",
          "text": [
            "Numerator Coefficients: [0.71573741 1.43147482 0.71573741]\n",
            "Denominator Coefficients: [1.         1.34896775 0.51398189]\n"
          ],
          "name": "stdout"
        }
      ]
    },
    {
      "cell_type": "code",
      "metadata": {
        "id": "l8AFKgfdTy57"
      },
      "source": [
        "##Compute frequency response of the filter using signal.freqz function\n",
        "\n",
        "wz,hz=signal.freqz(z,p,512)\n"
      ],
      "execution_count": 10,
      "outputs": []
    },
    {
      "cell_type": "code",
      "metadata": {
        "id": "EBZYmyJFTy7t",
        "outputId": "a7120593-7d10-41d3-d653-f4f456603afd",
        "colab": {
          "base_uri": "https://localhost:8080/",
          "height": 34
        }
      },
      "source": [
        "##Plot filter magnitude and phase responses using subplot. Convert digital frequency wz into analog frequency in Hz\n",
        "fig = plt.figure(figsize=(10, 8))"
      ],
      "execution_count": 12,
      "outputs": [
        {
          "output_type": "display_data",
          "data": {
            "text/plain": [
              "<Figure size 720x576 with 0 Axes>"
            ]
          },
          "metadata": {
            "tags": []
          }
        }
      ]
    },
    {
      "cell_type": "code",
      "metadata": {
        "id": "SJQx_5vLTy9r",
        "outputId": "b9a5ca0b-f8d5-47ba-bd9f-0265991ed0cf",
        "colab": {
          "base_uri": "https://localhost:8080/",
          "height": 198
        }
      },
      "source": [
        "##Calculate Magnitude from hz in dB\n",
        "\n",
        "Mag=20*np.log10(abs(hz))\n",
        "##Calculate frequency in Hz from wz\n",
        "\n",
        "Freq=wz*Fs/(2*np.pi)\n",
        "\n",
        "##Plot Magnitude response\n",
        "sub1 = plt.subplot(2, 1, 1)\n",
        "sub1.plot(Freq,Mag, 'r', linewidth=2)  \n",
        "sub1.axis([1, Fs/2, -60, 5])\n",
        "sub1.set_title('Magnitute Response', fontsize=20)\n",
        "sub1.set_xlabel('Frequency [Hz]', fontsize=20)\n",
        "sub1.set_ylabel('Magnitude [dB]', fontsize=20)\n",
        "sub1.grid()\n",
        "\n"
      ],
      "execution_count": 15,
      "outputs": [
        {
          "output_type": "display_data",
          "data": {
            "image/png": "[encoded data removed]",
            "text/plain": [
              "<Figure size 432x288 with 1 Axes>"
            ]
          },
          "metadata": {
            "tags": [],
            "needs_background": "light"
          }
        }
      ]
    },
    {
      "cell_type": "code",
      "metadata": {
        "id": "YyLth9iBUvXQ",
        "outputId": "0a800d73-240e-4501-8a66-0f7bec0c247a",
        "colab": {
          "base_uri": "https://localhost:8080/",
          "height": 191
        }
      },
      "source": [
        "##Plot phase angle\n",
        "sub2 = plt.subplot(2, 1, 2)\n",
        "##Calculate phace angle in degree from hz\n",
        "Phase = np.unwrap(np.angle(hz))*180/np.pi\n",
        "sub2.plot(Freq, Phase, 'g', linewidth=2)\n",
        "sub2.set_ylabel('Phase (degree)', fontsize=20)\n",
        "sub2.set_xlabel(r'Frequency (Hz)', fontsize=20)\n",
        "sub2.set_title(r'Phase response', fontsize=20)\n",
        "sub2.grid()\n",
        "\n",
        "plt.subplots_adjust(hspace=0.5)\n",
        "fig.tight_layout()\n",
        "plt.show()"
      ],
      "execution_count": 14,
      "outputs": [
        {
          "output_type": "display_data",
          "data": {
            "image/png": "[encoded data removed]",
            "text/plain": [
              "<Figure size 432x288 with 1 Axes>"
            ]
          },
          "metadata": {
            "tags": [],
            "needs_background": "light"
          }
        }
      ]
    }
  ]
}