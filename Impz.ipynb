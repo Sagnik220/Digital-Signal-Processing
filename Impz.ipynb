{
  "nbformat": 4,
  "nbformat_minor": 0,
  "metadata": {
    "colab": {
      "name": "Impz.ipynb",
      "provenance": [],
      "collapsed_sections": []
    },
    "kernelspec": {
      "name": "python3",
      "display_name": "Python 3"
    }
  },
  "cells": [
    {
      "cell_type": "code",
      "metadata": {
        "id": "CZTmsjtGV2JG"
      },
      "source": [
        "##Define impz(b,a) to calculate impulse response and step response of a system\n",
        "##input: b= an array containing numerator coefficients,a= an array containing denominator coefficients\n",
        "def impz(b,a):\n",
        "    ##Define the impulse sequence of length 60\n",
        "    impulse = np.repeat(0.,60)\n",
        "    impulse[0] =1.\n",
        "    x = np.arange(0,60)\n",
        "\n",
        "    ##Compute the impulse response \n",
        "    response =signal.lfilter(b, a, impulse)### START CODE HERE ### (≈ 1 line of code)  \n",
        "\n",
        "    ##Plot filter impulse and step response: \n",
        "    fig = plt.figure(figsize=(10, 6))\n",
        "    plt.subplot(211)\n",
        "    plt.stem(x, response, 'm',use_line_collection=True)\n",
        "    plt.ylabel('Amplitude', fontsize=15)\n",
        "    plt.xlabel(r'n (samples)', fontsize=15)\n",
        "    plt.title(r'Impulse response', fontsize=15)\n",
        "    \n",
        "    plt.subplot(212)\n",
        "    step = np.cumsum(response)    ##Compute step response of the system\n",
        "    plt.stem(x, step, 'g',use_line_collection=True)\n",
        "    plt.ylabel('Amplitude', fontsize=15)\n",
        "    plt.xlabel(r'n (samples)', fontsize=15)\n",
        "    plt.title(r'Step response', fontsize=15)\n",
        "    plt.subplots_adjust(hspace=0.5)\n",
        "    \n",
        "    fig.tight_layout()\n",
        "    plt.show()"
      ],
      "execution_count": null,
      "outputs": []
    }
  ]
}